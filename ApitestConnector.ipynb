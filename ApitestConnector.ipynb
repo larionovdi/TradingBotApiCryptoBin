{
 "cells": [
  {
   "cell_type": "code",
   "execution_count": null,
   "metadata": {},
   "outputs": [],
   "source": [
    "from binance.spot import Spot as Client\n",
    "\n",
    "client = Client(base_url='https://testnet.binance.vision')\n",
    "print(client.account_snapshot('SPOT'))"
   ]
  },
  {
   "cell_type": "code",
   "execution_count": null,
   "metadata": {},
   "outputs": [],
   "source": [
    "orders = client.get_open_orders(symbol='BTCUSDT')\n",
    "print(orders)"
   ]
  },
  {
   "cell_type": "code",
   "execution_count": null,
   "metadata": {},
   "outputs": [],
   "source": [
    "result = client.cancel_order(\n",
    "    symbol='BTCUSDT',\n",
    "    orderId='12155781')"
   ]
  },
  {
   "cell_type": "code",
   "execution_count": null,
   "metadata": {},
   "outputs": [],
   "source": [
    "orders = client.get_open_orders(symbol='BTCUSDT')\n",
    "print(orders)"
   ]
  },
  {
   "cell_type": "code",
   "execution_count": null,
   "metadata": {},
   "outputs": [],
   "source": [
    "trades = client.get_my_trades(symbol='BTCUSDT')\n",
    "print(trades)"
   ]
  },
  {
   "cell_type": "code",
   "execution_count": null,
   "metadata": {},
   "outputs": [],
   "source": [
    "info = client.get_account()\n",
    "print(info)"
   ]
  },
  {
   "cell_type": "code",
   "execution_count": null,
   "metadata": {},
   "outputs": [],
   "source": [
    "from asyncore import close_all\n",
    "import pandas as pd\n",
    "import websocket, json, pprint, numpy\n",
    "import configTest\n",
    "\n",
    "candle = []\n",
    "SOCKET = \"wss://stream.binance.com:9443/ws/btcusdt@kline_1m\"\n",
    "\n",
    "def createframe(candle):\n",
    "    df = pd.DataFrame([candle])\n",
    "    \n",
    "    df = df.loc[:,['s','t','c']]\n",
    "    df.columns = ['symbol','Time','Price']\n",
    "    df.Price = df.Price.astype(float)\n",
    "    df.Time = pd.to_datetime(df.Time, unit='ms')\n",
    "\n",
    "    return(df)\n",
    "\n",
    "\n",
    "def on_open(ws):\n",
    "    print('open connection')\n",
    "def on_close(ws):\n",
    "    print('closed connection')\n",
    "def on_message(ws, message):\n",
    "    global candle\n",
    "    #print('Received message')\n",
    "    json_message = json.loads(message)\n",
    "    candle = json_message['k']\n",
    "    close = candle['c']\n",
    "    #print(close)\n",
    "    is_candle_closed = candle['x']\n",
    "    if is_candle_closed == True:\n",
    "        print('closes')\n",
    "        print('candle closed at {}'.format(close))\n",
    "    print(createframe(candle))    \n",
    "    \n",
    "\n",
    "    \n",
    "  \n",
    "\"\"\" def createframe(candle):\n",
    "    df = pd.DataFrame([candle])\n",
    "    \n",
    "    df = df.loc[:,['s','t','c']]\n",
    "    df.columns = ['symbol','Time','Price']\n",
    "    df.Price = df.Price.astype(float)\n",
    "    df.Time = pd.to_datetime(df.Time, unit='ms')\n",
    "    return(df)\n",
    "     \"\"\"\n",
    "    \n",
    "\n",
    "        \n",
    "\n",
    "ws = websocket.WebSocketApp(SOCKET, on_open=on_open, on_close=on_close, on_message=on_message)\n",
    "\n",
    "ws.run_forever()\n"
   ]
  },
  {
   "cell_type": "code",
   "execution_count": 34,
   "metadata": {},
   "outputs": [
    {
     "ename": "AttributeError",
     "evalue": "module 'config' has no attribute 'pwd'",
     "output_type": "error",
     "traceback": [
      "\u001b[1;31m---------------------------------------------------------------------------\u001b[0m",
      "\u001b[1;31mAttributeError\u001b[0m                            Traceback (most recent call last)",
      "\u001b[1;32mc:\\Users\\Dmitrii\\Desktop\\ApiTrading\\ApitestConnector.ipynb Cell 10'\u001b[0m in \u001b[0;36m<cell line: 3>\u001b[1;34m()\u001b[0m\n\u001b[0;32m      <a href='vscode-notebook-cell:/c%3A/Users/Dmitrii/Desktop/ApiTrading/ApitestConnector.ipynb#ch0000012?line=0'>1</a>\u001b[0m \u001b[39mimport\u001b[39;00m \u001b[39msqlalchemy\u001b[39;00m\n\u001b[0;32m      <a href='vscode-notebook-cell:/c%3A/Users/Dmitrii/Desktop/ApiTrading/ApitestConnector.ipynb#ch0000012?line=1'>2</a>\u001b[0m \u001b[39mimport\u001b[39;00m \u001b[39mconfig\u001b[39;00m\n\u001b[1;32m----> <a href='vscode-notebook-cell:/c%3A/Users/Dmitrii/Desktop/ApiTrading/ApitestConnector.ipynb#ch0000012?line=2'>3</a>\u001b[0m engine \u001b[39m=\u001b[39m sqlalchemy\u001b[39m.\u001b[39mcreate_engine(\u001b[39m'\u001b[39m\u001b[39mpostgres:\u001b[39m\u001b[39m{}\u001b[39;00m\u001b[39m@localhost:\u001b[39m\u001b[39m{}\u001b[39;00m\u001b[39m'\u001b[39m\u001b[39m.\u001b[39mformat(config\u001b[39m.\u001b[39;49mpwd, config\u001b[39m.\u001b[39mport_id))\n",
      "\u001b[1;31mAttributeError\u001b[0m: module 'config' has no attribute 'pwd'"
     ]
    }
   ],
   "source": [
    "import sqlalchemy\n",
    "import config\n",
    "engine = sqlalchemy.create_engine('postgres:{}@localhost:{}'.format(config.pwd, config.port_id))"
   ]
  }
 ],
 "metadata": {
  "interpreter": {
   "hash": "c1fbf7f8ac6c2438651091f8333ed9ddbb8b3316b819a23955cbd8ab8681122d"
  },
  "kernelspec": {
   "display_name": "Python 3.10.4 64-bit (windows store)",
   "language": "python",
   "name": "python3"
  },
  "language_info": {
   "codemirror_mode": {
    "name": "ipython",
    "version": 3
   },
   "file_extension": ".py",
   "mimetype": "text/x-python",
   "name": "python",
   "nbconvert_exporter": "python",
   "pygments_lexer": "ipython3",
   "version": "3.10.4"
  },
  "orig_nbformat": 4
 },
 "nbformat": 4,
 "nbformat_minor": 2
}
